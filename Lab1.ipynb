{
  "nbformat": 4,
  "nbformat_minor": 0,
  "metadata": {
    "colab": {
      "provenance": []
    },
    "kernelspec": {
      "name": "python3",
      "display_name": "Python 3"
    },
    "language_info": {
      "name": "python"
    }
  },
  "cells": [
    {
      "cell_type": "code",
      "execution_count": 5,
      "metadata": {
        "id": "483kdpieUaam",
        "colab": {
          "base_uri": "https://localhost:8080/"
        },
        "outputId": "7bdc3fbd-60ab-4d16-bfcf-74360a458b35"
      },
      "outputs": [
        {
          "output_type": "stream",
          "name": "stdout",
          "text": [
            "Keywords: int, float, if, else\n",
            "Identifiers: a, b, c, d, e\n",
            "Math Operators: =, -, +\n",
            "Logical Operators: >\n",
            "Numerical Values: 5, 6, 2.0, 6.0\n",
            "Others: , ; ( ) { } "
          ]
        }
      ],
      "source": [
        "#lexicalAnalyzer function will get each of the line from input text file\n",
        "def lexicalAnalyzer(eachline):\n",
        "    keywords_list = ['auto','break','case','char','const','continue','default','do','double','else','enum','extern','float','for','goto','long','register','return','short','signed','sizeof','static','struct','switch','typedef','union','unsigned','void','volatile','while','int', 'float', 'if', 'else']\n",
        "    mathOp_list = ['+', '-', '=','/','//','*','**','++','--']\n",
        "    logicalOp_list = ['>', '<','==','!','!=','<=','>=']\n",
        "    others_list = ['(',')','{','}']\n",
        "\n",
        "    for eachword in eachline:\n",
        "        if ';' in eachword or ',' in eachword or ')' in eachword:\n",
        "            last = eachword[-1]\n",
        "            eachword = eachword.replace(last,'')\n",
        "            if last not in lex_dict['others_list']:\n",
        "                lex_dict['others_list'].append(last)\n",
        "        if eachword in keywords_list:\n",
        "            if eachword not in lex_dict['keywords_list']:\n",
        "                lex_dict['keywords_list'].append(eachword)\n",
        "        elif eachword in logicalOp_list:\n",
        "            if eachword not in lex_dict['logicalOp_list']:\n",
        "                lex_dict['logicalOp_list'].append(eachword)\n",
        "        elif eachword in mathOp_list:\n",
        "            if eachword not in lex_dict['mathOp_list']:\n",
        "                lex_dict['mathOp_list'].append(eachword)\n",
        "        elif eachword[-1].isdigit():\n",
        "            lex_dict['numerical_list'].append(eachword)\n",
        "        elif eachword in others_list or '(' in eachword:\n",
        "            if eachword not in lex_dict['others_list']:\n",
        "                lex_dict['others_list'].append(eachword[0])\n",
        "        else:\n",
        "            if eachword not in lex_dict['identifiers_list']:\n",
        "                lex_dict['identifiers_list'].append(eachword)\n",
        "\n",
        "\n",
        "#lex_dict basically the dictionary to store the corresponding value of keyword, identifier etc... as a list,\n",
        "#Also keeping it global to access this from the function without passing it.\n",
        "lex_dict = {'keywords_list':[], 'identifiers_list':[], 'mathOp_list':[], 'logicalOp_list':[], 'numerical_list':[], 'others_list':[]}\n",
        "\n",
        "with open(\"input.txt\") as file:\n",
        "    for eachline in file.readlines():\n",
        "        eachline = eachline.strip().split(\" \")\n",
        "        lexicalAnalyzer(eachline) #each line will be passed to the function\n",
        "\n",
        "    if len(lex_dict['keywords_list']) > 0:\n",
        "        print('Keywords:',end=\" \")\n",
        "        for i in range(len(lex_dict['keywords_list'])):\n",
        "            if i < len(lex_dict['keywords_list'])-1:\n",
        "              print((lex_dict['keywords_list'][i]), end =\", \")\n",
        "            else:\n",
        "              print((lex_dict['keywords_list'][i]))\n",
        "\n",
        "    if len(lex_dict['identifiers_list']) > 0:\n",
        "        print('Identifiers:',end=\" \")\n",
        "        for i in range(len(lex_dict['identifiers_list'])):\n",
        "            if i < len(lex_dict['identifiers_list'])-1:\n",
        "              print((lex_dict['identifiers_list'][i]), end =\", \")\n",
        "            else:\n",
        "              print((lex_dict['identifiers_list'][i]))\n",
        "\n",
        "    if len(lex_dict['mathOp_list']) > 0:\n",
        "        print('Math Operators:',end=\" \")\n",
        "        for i in range(len(lex_dict['mathOp_list'])):\n",
        "            if i < len(lex_dict['mathOp_list'])-1:\n",
        "              print((lex_dict['mathOp_list'][i]), end =\", \")\n",
        "            else:\n",
        "              print((lex_dict['mathOp_list'][i]))\n",
        "\n",
        "    if len(lex_dict['logicalOp_list']) > 0:\n",
        "        print('Logical Operators:',end=\" \")\n",
        "        for i in range(len(lex_dict['logicalOp_list'])):\n",
        "            if i < len(lex_dict['logicalOp_list'])-1:\n",
        "              print((lex_dict['logicalOp_list'][i]), end =\", \")\n",
        "            else:\n",
        "              print((lex_dict['logicalOp_list'][i]))\n",
        "\n",
        "    if len(lex_dict['numerical_list']) > 0:\n",
        "        print('Numerical Values:',end=\" \")\n",
        "        for i in range(len(lex_dict['numerical_list'])):\n",
        "            if i < len(lex_dict['numerical_list'])-1:\n",
        "              print((lex_dict['numerical_list'][i]), end =\", \")\n",
        "            else:\n",
        "              print((lex_dict['numerical_list'][i]))\n",
        "\n",
        "    if len(lex_dict['others_list']) > 0:\n",
        "        print('Others:',end=\" \")\n",
        "        for i in range(len(lex_dict['others_list'])):\n",
        "            print((lex_dict['others_list'][i]), end =\" \")"
      ]
    }
  ]
}